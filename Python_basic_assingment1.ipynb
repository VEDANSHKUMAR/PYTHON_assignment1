{
 "cells": [
  {
   "cell_type": "code",
   "execution_count": 1,
   "id": "ec135ca9",
   "metadata": {},
   "outputs": [
    {
     "name": "stdout",
     "output_type": "stream",
     "text": [
      "23\n",
      "the list of the following code will be ['Hey', 'i', 'am', 'from', 'New', 'Delhi']\n"
     ]
    }
   ],
   "source": [
    "#Q1.  From this given string: s = \"Hey i am from New Delhi\". Find out: length of string, convert this to list using split operation\n",
    "s=\"Hey i am from New Delhi\"\n",
    "count=0\n",
    "for i in s:\n",
    "    count+=1\n",
    "print(count)\n",
    "print(\"the list of the following code will be\",s.split(\" \") )"
   ]
  },
  {
   "cell_type": "code",
   "execution_count": 2,
   "id": "d7c3d783",
   "metadata": {},
   "outputs": [
    {
     "name": "stdout",
     "output_type": "stream",
     "text": [
      "Name is rahul\n",
      "R a m e   i s   r a h u l\n",
      "NAME IS RAHUL\n"
     ]
    }
   ],
   "source": [
    "#Q2.  Given string s = \"name is rahul\". Write code to give following o/p.\n",
    "#- \"Name is rahul\"\n",
    "#-  \"Rame Is Rahul\"\n",
    "#-  \"NAME IS RAHUL\"\n",
    "s =\"name is rahul\"\n",
    "a=s.capitalize()\n",
    "d=list(s)\n",
    "d[0]=\"R\"\n",
    "b= ' '.join([str(elem) for elem in d])\n",
    "c=s.upper()\n",
    "print(a)\n",
    "print(b)\n",
    "print(c)"
   ]
  },
  {
   "cell_type": "code",
   "execution_count": 3,
   "id": "e23787b5",
   "metadata": {},
   "outputs": [
    {
     "name": "stdout",
     "output_type": "stream",
     "text": [
      "Enter the lenght of the rectengle:: 8\n",
      " Enter the breadth of the rectangle::5\n",
      "40\n",
      "26\n"
     ]
    }
   ],
   "source": [
    "#Q3. Using length and breadth as input find out area and perimeter of a given rectangle.\n",
    "l=int(input(\"Enter the lenght of the rectengle:: \"))\n",
    "b=int(input(\"Enter the breadth of the rectangle::\"))\n",
    "A=l*b\n",
    "P=2*l+2*b\n",
    "print(A)\n",
    "print(P)"
   ]
  },
  {
   "cell_type": "code",
   "execution_count": 4,
   "id": "76e6ecd2",
   "metadata": {},
   "outputs": [
    {
     "name": "stdout",
     "output_type": "stream",
     "text": [
      "Enter the diameter of the circle::15\n",
      "47.12388980384689\n",
      "176.71458676442586\n"
     ]
    }
   ],
   "source": [
    "#Q4. Using diameter as input find out circumference and area of a circle.\n",
    "import math\n",
    "pi=math.pi\n",
    "\n",
    "d=int(input(\"Enter the diameter of the circle::\"))\n",
    "C=pi*d\n",
    "A=pi*d**2/4\n",
    "print(C)\n",
    "print(A)"
   ]
  },
  {
   "cell_type": "code",
   "execution_count": 7,
   "id": "8053a394",
   "metadata": {},
   "outputs": [
    {
     "name": "stdout",
     "output_type": "stream",
     "text": [
      "Enter the coeffecent a::2\n",
      "Enter the coeffecent b::3\n",
      "Enter the coeffecent a::4\n",
      "Complex Roots\n",
      "-0.75  + i 4.795831523312719\n",
      "-0.75  - i 4.795831523312719\n"
     ]
    }
   ],
   "source": [
    "#Q5. Write a program to compute roots of a quadratic equation when coefficients a, b and c are known(entered by user).\n",
    "import math\n",
    "def roots( a, b, c):\n",
    "\td = b * b - 4 * a * c\n",
    "\tsqrt_val = math.sqrt(abs(d))\n",
    "\t\n",
    "\tif d > 0:\n",
    "\t\tprint(\" real and different roots \")\n",
    "\t\tprint((-b + sqrt_val)/(2 * a))\n",
    "\t\tprint((-b - sqrt_val)/(2 * a))\n",
    "\t\n",
    "\telif d == 0:\n",
    "\t\tprint(\" real and same roots\")\n",
    "\t\tprint(-b / (2 * a))\n",
    "\t\n",
    "\t\n",
    "\telse:\n",
    "\t\tprint(\"Complex Roots\")\n",
    "\t\tprint(- b / (2 * a), \" + i\", sqrt_val)\n",
    "\t\tprint(- b / (2 * a), \" - i\", sqrt_val)\n",
    "\n",
    "\n",
    "a = int(input(\"Enter the coeffecent a::\"))\n",
    "b = int(input(\"Enter the coeffecent b::\"))\n",
    "c = int(input(\"Enter the coeffecent a::\"))\n",
    "\n",
    "\n",
    "if a == 0:\n",
    "\t\tprint(\"Input correct quadratic equation\")\n",
    "\n",
    "else:\n",
    "\troots(a, b, c)"
   ]
  },
  {
   "cell_type": "code",
   "execution_count": 8,
   "id": "2a46f98a",
   "metadata": {},
   "outputs": [
    {
     "name": "stdout",
     "output_type": "stream",
     "text": [
      "Enter The radius::4\n",
      "268.082573106329\n"
     ]
    }
   ],
   "source": [
    "#Q6. Find volume of a sphere using radius as input.\n",
    "import math\n",
    "\n",
    "pi=math.pi\n",
    "r=int(input(\"Enter The radius::\"))\n",
    "V=4*pi*r**3/3\n",
    "print(V)"
   ]
  },
  {
   "cell_type": "code",
   "execution_count": 9,
   "id": "74e57f25",
   "metadata": {},
   "outputs": [
    {
     "name": "stdout",
     "output_type": "stream",
     "text": [
      "enter::3454\n",
      "4 digit\n"
     ]
    }
   ],
   "source": [
    "#Q7. Count the  number of digits in a number. Example: 3454 has 4 digits.\n",
    "s=input(\"enter::\")\n",
    "count=0;\n",
    "for i in s:\n",
    "    count+=1\n",
    "print(count,\"digit\")"
   ]
  },
  {
   "cell_type": "code",
   "execution_count": 10,
   "id": "5736715b",
   "metadata": {},
   "outputs": [
    {
     "name": "stdout",
     "output_type": "stream",
     "text": [
      "Enter a sring::vedansh\n",
      "VEDANSH\n"
     ]
    }
   ],
   "source": [
    "#Q8. Write a program that accepts a string and gives output string with all capital letters\n",
    "s=input(\"Enter a sring::\")\n",
    "print(s.upper())"
   ]
  },
  {
   "cell_type": "code",
   "execution_count": 11,
   "id": "beb88f18",
   "metadata": {},
   "outputs": [
    {
     "name": "stdout",
     "output_type": "stream",
     "text": [
      "enter the string ::Hello\n",
      "enter the number::0\n",
      "enter the character to be replaced::j\n",
      "jello\n"
     ]
    }
   ],
   "source": [
    "#Q9. Write a program to that accepts a string s, an index number n and a character ‘c’. And outputs the string replaced with the character at the index number n. Example- ‘hello’ , 0 , ‘j’ ==> ‘jello’.\n",
    "#(Hint2: You can try it by join function too by typecasting it to list)\n",
    "s=input(\"enter the string ::\")\n",
    "i=int(input(\"enter the number::\"))\n",
    "c=input(\"enter the character to be replaced::\")\n",
    "str=list(s)\n",
    "str[i]=c\n",
    "s1=\"\"\n",
    "s1=s1.join(str)\n",
    "print(s1)"
   ]
  },
  {
   "cell_type": "code",
   "execution_count": 14,
   "id": "c779e7fc",
   "metadata": {},
   "outputs": [
    {
     "name": "stdout",
     "output_type": "stream",
     "text": [
      "Enter a string::Hey there\n",
      "ereht yeH\n"
     ]
    }
   ],
   "source": [
    "#Q10. Reverse a string. Example: 'Hey there' = 'ereht yeH'\n",
    "s=input(\"Enter a string::\")\n",
    "s1=s[-1: :-1]\n",
    "print(s1)\n"
   ]
  },
  {
   "cell_type": "code",
   "execution_count": null,
   "id": "5c2ba232",
   "metadata": {},
   "outputs": [],
   "source": []
  }
 ],
 "metadata": {
  "kernelspec": {
   "display_name": "Python 3",
   "language": "python",
   "name": "python3"
  },
  "language_info": {
   "codemirror_mode": {
    "name": "ipython",
    "version": 3
   },
   "file_extension": ".py",
   "mimetype": "text/x-python",
   "name": "python",
   "nbconvert_exporter": "python",
   "pygments_lexer": "ipython3",
   "version": "3.8.8"
  }
 },
 "nbformat": 4,
 "nbformat_minor": 5
}
